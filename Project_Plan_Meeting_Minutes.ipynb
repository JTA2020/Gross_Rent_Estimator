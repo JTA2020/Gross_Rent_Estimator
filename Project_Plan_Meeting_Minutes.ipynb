{
  "nbformat": 4,
  "nbformat_minor": 0,
  "metadata": {
    "colab": {
      "name": "Project_Plan_Meeting_Minutes.ipynb",
      "provenance": [],
      "authorship_tag": "ABX9TyNl1cmoqksalkmQgeUpva7k",
      "include_colab_link": true
    },
    "kernelspec": {
      "name": "python3",
      "display_name": "Python 3"
    }
  },
  "cells": [
    {
      "cell_type": "markdown",
      "metadata": {
        "id": "view-in-github",
        "colab_type": "text"
      },
      "source": [
        "<a href=\"https://colab.research.google.com/github/JTA2020/Gross_Rent_Estimator/blob/master/Project_Plan_Meeting_Minutes.ipynb\" target=\"_parent\"><img src=\"https://colab.research.google.com/assets/colab-badge.svg\" alt=\"Open In Colab\"/></a>"
      ]
    },
    {
      "cell_type": "markdown",
      "metadata": {
        "id": "Qt8Kqnqv7Ud3"
      },
      "source": [
        "# Rough Notes\n",
        "\n",
        "- use streamlit \n",
        "\n",
        "# Development Process\n",
        "\n",
        "## Essential \n",
        "\n",
        "* Dataset: \n",
        "show screenshots of what you did in order to get this dataset (show that you posted on forums like reddit, slack, etc). Show that you webscraped data in a diplomatic way. \n",
        "\n",
        "Start with insideairbnb data csv and go from there, and compare against craigslist\n",
        "\n",
        "Stretch: my own web scraped datasets \n",
        "\n",
        "\n",
        "* Input = www.realtor.ca URL link, model inputs are number of beds and baths\n",
        "\n",
        "* Output = price (annual) \n",
        "\n",
        "* Experiments: \n",
        "hyper_param tuning /per model\n",
        "model comparision to other models (baseline models ie kNN(it's very simple) versus (XGBoost, RF, look at kaggle zillow challenge and what they did)\n",
        "\n",
        "\n"
      ]
    },
    {
      "cell_type": "code",
      "metadata": {
        "id": "AixQNZLzNRul"
      },
      "source": [
        ""
      ],
      "execution_count": null,
      "outputs": []
    },
    {
      "cell_type": "code",
      "metadata": {
        "id": "yQp81Xus7WQy"
      },
      "source": [
        ""
      ],
      "execution_count": null,
      "outputs": []
    }
  ]
}