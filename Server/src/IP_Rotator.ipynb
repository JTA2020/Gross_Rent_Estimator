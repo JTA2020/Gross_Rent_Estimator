{
 "cells": [
  {
   "cell_type": "code",
   "execution_count": 1,
   "id": "serious-cookie",
   "metadata": {},
   "outputs": [
    {
     "data": {
      "text/plain": [
       "339900.0"
      ]
     },
     "execution_count": 1,
     "metadata": {},
     "output_type": "execute_result"
    }
   ],
   "source": [
    "from bs4 import BeautifulSoup\n",
    "from requests import get\n",
    "import re\n",
    "\n",
    "headers = ({'User-Agent':\n",
    "            'Mozilla/5.0 (Windows NT 6.1) AppleWebKit/537.36 (KHTML, like Gecko) Chrome/41.0.2228.0 Safari/537.36'})\n",
    "\n",
    "\n",
    "#Input the listing you want from realtor.ca \n",
    "\n",
    "realtorURL = \"https://www.realtor.ca/real-estate/22841079/410-2560-wark-st-victoria-hillside\"\n",
    "response = get(realtorURL, headers=headers)\n",
    "\n",
    "soup = BeautifulSoup(response.text, 'html.parser')\n",
    "price = re.findall('price: \\'(\\d+\\.\\d+)\\'', response.text)\n",
    "price = float(price[0])\n",
    "price"
   ]
  },
  {
   "cell_type": "markdown",
   "id": "extra-geneva",
   "metadata": {},
   "source": [
    "https://www.youtube.com/watch?v=n3uSyqoBgQI"
   ]
  },
  {
   "cell_type": "code",
   "execution_count": 50,
   "id": "extended-polymer",
   "metadata": {},
   "outputs": [
    {
     "data": {
      "text/plain": [
       "{'https': '103.227.254.59:80'}"
      ]
     },
     "execution_count": 50,
     "metadata": {},
     "output_type": "execute_result"
    }
   ],
   "source": [
    "proxybroker = 'https://sslproxies.org/' \n",
    "proxies = get(proxybroker)\n",
    "proxy_scraper = BeautifulSoup(proxies.content, 'html.parser')\n",
    "{'https': choice(list(map(lambda x:x[0]+':'+x[1], list(zip(map(lambda x:x.text, proxy_scraper.findAll('td')[::8]),\n",
    "                                          map(lambda x:x.text, proxy_scraper.findAll('td')[1::8]))))))}\n",
    " "
   ]
  },
  {
   "cell_type": "code",
   "execution_count": 53,
   "id": "supported-doubt",
   "metadata": {},
   "outputs": [
    {
     "data": {
      "text/plain": [
       "{'https': '169.255.126.211:30640'}"
      ]
     },
     "execution_count": 53,
     "metadata": {},
     "output_type": "execute_result"
    }
   ],
   "source": [
    "{'https': choice(list(map(lambda x:x[0]+':'+x[1], list(zip(map(lambda x:x.text, proxy_scraper.findAll('td')[::8]),\n",
    "                                          map(lambda x:x.text, proxy_scraper.findAll('td')[1::8]))))))}\n",
    " "
   ]
  },
  {
   "cell_type": "code",
   "execution_count": null,
   "id": "dress-ivory",
   "metadata": {},
   "outputs": [],
   "source": []
  }
 ],
 "metadata": {
  "kernelspec": {
   "display_name": "Python 3",
   "language": "python",
   "name": "python3"
  },
  "language_info": {
   "codemirror_mode": {
    "name": "ipython",
    "version": 3
   },
   "file_extension": ".py",
   "mimetype": "text/x-python",
   "name": "python",
   "nbconvert_exporter": "python",
   "pygments_lexer": "ipython3",
   "version": "3.8.5"
  }
 },
 "nbformat": 4,
 "nbformat_minor": 5
}
