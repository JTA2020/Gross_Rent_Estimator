{
 "cells": [
  {
   "cell_type": "code",
   "execution_count": 13,
   "id": "automatic-wireless",
   "metadata": {},
   "outputs": [
    {
     "data": {
      "text/html": [
       "<div>\n",
       "<style scoped>\n",
       "    .dataframe tbody tr th:only-of-type {\n",
       "        vertical-align: middle;\n",
       "    }\n",
       "\n",
       "    .dataframe tbody tr th {\n",
       "        vertical-align: top;\n",
       "    }\n",
       "\n",
       "    .dataframe thead th {\n",
       "        text-align: right;\n",
       "    }\n",
       "</style>\n",
       "<table border=\"1\" class=\"dataframe\">\n",
       "  <thead>\n",
       "    <tr style=\"text-align: right;\">\n",
       "      <th></th>\n",
       "      <th>Title</th>\n",
       "      <th>Title_URL</th>\n",
       "      <th>Image</th>\n",
       "      <th>Price</th>\n",
       "      <th>resulthood</th>\n",
       "      <th>beds</th>\n",
       "      <th>baths</th>\n",
       "      <th>square_footage</th>\n",
       "    </tr>\n",
       "  </thead>\n",
       "  <tbody>\n",
       "    <tr>\n",
       "      <th>0</th>\n",
       "      <td>Crossing at Belmont - Brand New 1 Bedroom + De...</td>\n",
       "      <td>https://victoria.craigslist.org/apa/d/highland...</td>\n",
       "      <td>https://images.craigslist.org/00k0k_4pNB1tWda3...</td>\n",
       "      <td>$1,975</td>\n",
       "      <td>NaN</td>\n",
       "      <td>1BR</td>\n",
       "      <td>1Ba</td>\n",
       "      <td>770.0</td>\n",
       "    </tr>\n",
       "    <tr>\n",
       "      <th>1</th>\n",
       "      <td>2 Bed / 2 Bath available in Langford!</td>\n",
       "      <td>https://victoria.craigslist.org/apa/d/highland...</td>\n",
       "      <td>https://images.craigslist.org/00303_64mWMNo4j8...</td>\n",
       "      <td>$1,680</td>\n",
       "      <td>(Langford, BC)</td>\n",
       "      <td>2BR</td>\n",
       "      <td>1Ba</td>\n",
       "      <td>841.0</td>\n",
       "    </tr>\n",
       "    <tr>\n",
       "      <th>2</th>\n",
       "      <td>Brand new 2 bedroom suite</td>\n",
       "      <td>https://victoria.craigslist.org/apa/d/highland...</td>\n",
       "      <td>https://images.craigslist.org/00F0F_ezIytz94aY...</td>\n",
       "      <td>$1,800</td>\n",
       "      <td>(Langford)</td>\n",
       "      <td>2BR</td>\n",
       "      <td>1Ba</td>\n",
       "      <td>NaN</td>\n",
       "    </tr>\n",
       "    <tr>\n",
       "      <th>3</th>\n",
       "      <td>1 Bedroom Apartment for Rent  next to Millstre...</td>\n",
       "      <td>https://victoria.craigslist.org/apa/d/highland...</td>\n",
       "      <td>https://images.craigslist.org/00a0a_beWxrYXrJ9...</td>\n",
       "      <td>$977</td>\n",
       "      <td>(665 Redington Avenue)</td>\n",
       "      <td>1BR</td>\n",
       "      <td>1Ba</td>\n",
       "      <td>NaN</td>\n",
       "    </tr>\n",
       "    <tr>\n",
       "      <th>4</th>\n",
       "      <td>2 Bedroom Fully Furnished Suite - Bear Mountain</td>\n",
       "      <td>https://victoria.craigslist.org/apa/d/highland...</td>\n",
       "      <td>https://images.craigslist.org/00A0A_iYnzjSiQCf...</td>\n",
       "      <td>$2,100</td>\n",
       "      <td>(Victoria / Langford area)</td>\n",
       "      <td>2BR</td>\n",
       "      <td>1Ba</td>\n",
       "      <td>1000.0</td>\n",
       "    </tr>\n",
       "    <tr>\n",
       "      <th>...</th>\n",
       "      <td>...</td>\n",
       "      <td>...</td>\n",
       "      <td>...</td>\n",
       "      <td>...</td>\n",
       "      <td>...</td>\n",
       "      <td>...</td>\n",
       "      <td>...</td>\n",
       "      <td>...</td>\n",
       "    </tr>\n",
       "    <tr>\n",
       "      <th>708</th>\n",
       "      <td>Belgrove Apartments-2 Bedroom-Available April 1st</td>\n",
       "      <td>https://victoria.craigslist.org/apa/d/victoria...</td>\n",
       "      <td>https://images.craigslist.org/00T0T_8zDaf8pXUD...</td>\n",
       "      <td>$1,695</td>\n",
       "      <td>NaN</td>\n",
       "      <td>2BR</td>\n",
       "      <td>1Ba</td>\n",
       "      <td>757.0</td>\n",
       "    </tr>\n",
       "    <tr>\n",
       "      <th>709</th>\n",
       "      <td>Belgrove Apartments-1 Bedroom-Available May 1st</td>\n",
       "      <td>https://victoria.craigslist.org/apa/d/victoria...</td>\n",
       "      <td>https://images.craigslist.org/00J0J_lDAlTVIDVk...</td>\n",
       "      <td>$1,350</td>\n",
       "      <td>NaN</td>\n",
       "      <td>1BR</td>\n",
       "      <td>1Ba</td>\n",
       "      <td>637.0</td>\n",
       "    </tr>\n",
       "    <tr>\n",
       "      <th>710</th>\n",
       "      <td>1 Bedroom Suites at Grenadier Manor</td>\n",
       "      <td>https://victoria.craigslist.org/apa/d/victoria...</td>\n",
       "      <td>https://images.craigslist.org/00B0B_khSEgjeEkN...</td>\n",
       "      <td>$1,375</td>\n",
       "      <td>(Victoria)</td>\n",
       "      <td>1BR</td>\n",
       "      <td>1Ba</td>\n",
       "      <td>750.0</td>\n",
       "    </tr>\n",
       "    <tr>\n",
       "      <th>711</th>\n",
       "      <td>LARGE 3 BED Rooms on Tyndall  Ave, Gordon Head</td>\n",
       "      <td>https://victoria.craigslist.org/apa/d/victoria...</td>\n",
       "      <td>https://images.craigslist.org/00P0P_2jQMrTKp5y...</td>\n",
       "      <td>$2,100</td>\n",
       "      <td>(VICTORIA)</td>\n",
       "      <td>3BR</td>\n",
       "      <td>1Ba</td>\n",
       "      <td>NaN</td>\n",
       "    </tr>\n",
       "    <tr>\n",
       "      <th>712</th>\n",
       "      <td>Family of 3 with small dog seeking bright home</td>\n",
       "      <td>https://victoria.craigslist.org/apa/d/victoria...</td>\n",
       "      <td>NaN</td>\n",
       "      <td>$2,800</td>\n",
       "      <td>(Victoria, Cadburo Bay, Fairfield, Fernwood, ...</td>\n",
       "      <td>NaN</td>\n",
       "      <td>NaN</td>\n",
       "      <td>NaN</td>\n",
       "    </tr>\n",
       "  </tbody>\n",
       "</table>\n",
       "<p>713 rows × 8 columns</p>\n",
       "</div>"
      ],
      "text/plain": [
       "                                                 Title  \\\n",
       "0    Crossing at Belmont - Brand New 1 Bedroom + De...   \n",
       "1                2 Bed / 2 Bath available in Langford!   \n",
       "2                            Brand new 2 bedroom suite   \n",
       "3    1 Bedroom Apartment for Rent  next to Millstre...   \n",
       "4      2 Bedroom Fully Furnished Suite - Bear Mountain   \n",
       "..                                                 ...   \n",
       "708  Belgrove Apartments-2 Bedroom-Available April 1st   \n",
       "709    Belgrove Apartments-1 Bedroom-Available May 1st   \n",
       "710                1 Bedroom Suites at Grenadier Manor   \n",
       "711     LARGE 3 BED Rooms on Tyndall  Ave, Gordon Head   \n",
       "712     Family of 3 with small dog seeking bright home   \n",
       "\n",
       "                                             Title_URL  \\\n",
       "0    https://victoria.craigslist.org/apa/d/highland...   \n",
       "1    https://victoria.craigslist.org/apa/d/highland...   \n",
       "2    https://victoria.craigslist.org/apa/d/highland...   \n",
       "3    https://victoria.craigslist.org/apa/d/highland...   \n",
       "4    https://victoria.craigslist.org/apa/d/highland...   \n",
       "..                                                 ...   \n",
       "708  https://victoria.craigslist.org/apa/d/victoria...   \n",
       "709  https://victoria.craigslist.org/apa/d/victoria...   \n",
       "710  https://victoria.craigslist.org/apa/d/victoria...   \n",
       "711  https://victoria.craigslist.org/apa/d/victoria...   \n",
       "712  https://victoria.craigslist.org/apa/d/victoria...   \n",
       "\n",
       "                                                 Image   Price  \\\n",
       "0    https://images.craigslist.org/00k0k_4pNB1tWda3...  $1,975   \n",
       "1    https://images.craigslist.org/00303_64mWMNo4j8...  $1,680   \n",
       "2    https://images.craigslist.org/00F0F_ezIytz94aY...  $1,800   \n",
       "3    https://images.craigslist.org/00a0a_beWxrYXrJ9...    $977   \n",
       "4    https://images.craigslist.org/00A0A_iYnzjSiQCf...  $2,100   \n",
       "..                                                 ...     ...   \n",
       "708  https://images.craigslist.org/00T0T_8zDaf8pXUD...  $1,695   \n",
       "709  https://images.craigslist.org/00J0J_lDAlTVIDVk...  $1,350   \n",
       "710  https://images.craigslist.org/00B0B_khSEgjeEkN...  $1,375   \n",
       "711  https://images.craigslist.org/00P0P_2jQMrTKp5y...  $2,100   \n",
       "712                                                NaN  $2,800   \n",
       "\n",
       "                                            resulthood beds baths  \\\n",
       "0                                                  NaN  1BR   1Ba   \n",
       "1                                       (Langford, BC)  2BR   1Ba   \n",
       "2                                           (Langford)  2BR   1Ba   \n",
       "3                               (665 Redington Avenue)  1BR   1Ba   \n",
       "4                           (Victoria / Langford area)  2BR   1Ba   \n",
       "..                                                 ...  ...   ...   \n",
       "708                                                NaN  2BR   1Ba   \n",
       "709                                                NaN  1BR   1Ba   \n",
       "710                                         (Victoria)  1BR   1Ba   \n",
       "711                                         (VICTORIA)  3BR   1Ba   \n",
       "712   (Victoria, Cadburo Bay, Fairfield, Fernwood, ...  NaN   NaN   \n",
       "\n",
       "     square_footage  \n",
       "0             770.0  \n",
       "1             841.0  \n",
       "2               NaN  \n",
       "3               NaN  \n",
       "4            1000.0  \n",
       "..              ...  \n",
       "708           757.0  \n",
       "709           637.0  \n",
       "710           750.0  \n",
       "711             NaN  \n",
       "712             NaN  \n",
       "\n",
       "[713 rows x 8 columns]"
      ]
     },
     "execution_count": 13,
     "metadata": {},
     "output_type": "execute_result"
    }
   ],
   "source": [
    "import pandas as pd\n",
    "import numpy as np\n",
    "df = pd.read_csv('Victoria_craigslist_032021.csv')\n",
    "df"
   ]
  },
  {
   "cell_type": "code",
   "execution_count": 14,
   "id": "secret-cricket",
   "metadata": {},
   "outputs": [],
   "source": [
    "def conv(text):\n",
    "    text = \"\".join([char for char in text if char not in (' ','\\n', 'br', '-')])\n",
    "    return text\n",
    "\n",
    "def currency_conv(text):\n",
    "    text = \"\".join([char for char in text if char not in ('$',',')])\n",
    "    return float(text)\n",
    "\n",
    "def to_numeric(string):\n",
    "    return int(string)"
   ]
  },
  {
   "cell_type": "code",
   "execution_count": 16,
   "id": "median-musical",
   "metadata": {},
   "outputs": [
    {
     "name": "stdout",
     "output_type": "stream",
     "text": [
      "0 Title\n",
      "0 Title_URL\n",
      "42 Image\n",
      "0 Price\n",
      "147 resulthood\n",
      "0 beds\n",
      "0 baths\n",
      "0 square_footage\n"
     ]
    }
   ],
   "source": [
    "df = df[df['beds'].notna()]\n",
    "df = df[df['baths'].notna()]\n",
    "df = df[df['square_footage'].notna()]\n",
    "\n",
    "for i in df.columns:\n",
    "    print(len(df[df[i].isna()]), i)"
   ]
  },
  {
   "cell_type": "code",
   "execution_count": 18,
   "id": "adapted-mexican",
   "metadata": {},
   "outputs": [],
   "source": [
    "df['Price'] = df['Price'].apply(lambda x: currency_conv(x))\n",
    "df['beds'] = df['beds'].str[0].apply(lambda x: to_numeric(x))\n",
    "df['baths'] = df['baths'].str[0].apply(lambda x: to_numeric(x))"
   ]
  },
  {
   "cell_type": "code",
   "execution_count": 19,
   "id": "prepared-gregory",
   "metadata": {},
   "outputs": [],
   "source": [
    "df2 = df[['Price','beds', 'baths', 'square_footage']]"
   ]
  },
  {
   "cell_type": "code",
   "execution_count": 20,
   "id": "mathematical-candy",
   "metadata": {},
   "outputs": [],
   "source": [
    "# Drop 'wanted' or 'looking' or 'seeking' listings, these are likely to be rent seekers and are invalid\n",
    "wanted = df[df['Title'].str.contains('wanted',case=False)].index\n",
    "df = df.drop(index=wanted)\n",
    "looking = df[df['Title'].str.contains('looking',case=False)].index\n",
    "df = df.drop(index=looking)\n",
    "seeking = df[df['Title'].str.contains('seeking',case=False)].index\n",
    "df = df.drop(index=seeking)\n",
    "\n",
    "oddbeds = df[df['beds']=='n'].index\n",
    "df = df.drop(index=oddbeds)\n",
    "\n",
    "price_outlier = df[df['Price']>5000].index\n",
    "df = df.drop(index=price_outlier)\n",
    "\n",
    "sqft_outlier1 = df[df['square_footage']>4000].index\n",
    "df = df.drop(index=sqft_outlier1)\n",
    "sqft_outlier2 = df[df['square_footage']<375].index\n",
    "df = df.drop(index=sqft_outlier2)\n",
    "\n",
    "price_outlier = df[df['Price']>5000].index\n",
    "df = df.drop(index=price_outlier)"
   ]
  },
  {
   "cell_type": "code",
   "execution_count": 21,
   "id": "realistic-pointer",
   "metadata": {},
   "outputs": [
    {
     "name": "stdout",
     "output_type": "stream",
     "text": [
      "AxesSubplot(0.125,0.125;0.775x0.755)\n"
     ]
    },
    {
     "data": {
      "text/plain": [
       "529     900.0\n",
       "243     900.0\n",
       "238     900.0\n",
       "235     900.0\n",
       "234     900.0\n",
       "        ...  \n",
       "165    3700.0\n",
       "66     3700.0\n",
       "522    3900.0\n",
       "502    3950.0\n",
       "39     4000.0\n",
       "Name: Price, Length: 460, dtype: float64"
      ]
     },
     "execution_count": 21,
     "metadata": {},
     "output_type": "execute_result"
    },
    {
     "data": {
      "image/png": "[encoded data removed]",
      "text/plain": [
       "<Figure size 432x288 with 1 Axes>"
      ]
     },
     "metadata": {
      "needs_background": "light"
     },
     "output_type": "display_data"
    }
   ],
   "source": [
    "# Check to see what the prices are like\n",
    "print(df['Price'].hist(bins=20))\n",
    "df['Price'].sort_values()"
   ]
  },
  {
   "cell_type": "code",
   "execution_count": 22,
   "id": "aggregate-samuel",
   "metadata": {},
   "outputs": [
    {
     "name": "stdout",
     "output_type": "stream",
     "text": [
      "AxesSubplot(0.125,0.125;0.775x0.755)\n"
     ]
    },
    {
     "data": {
      "text/plain": [
       "316     391.0\n",
       "290     391.0\n",
       "604     400.0\n",
       "481     400.0\n",
       "676     400.0\n",
       "        ...  \n",
       "39     1800.0\n",
       "267    1900.0\n",
       "47     2000.0\n",
       "66     2268.0\n",
       "165    2500.0\n",
       "Name: square_footage, Length: 460, dtype: float64"
      ]
     },
     "execution_count": 22,
     "metadata": {},
     "output_type": "execute_result"
    },
    {
     "data": {
      "image/png": "[encoded data removed]",
      "text/plain": [
       "<Figure size 432x288 with 1 Axes>"
      ]
     },
     "metadata": {
      "needs_background": "light"
     },
     "output_type": "display_data"
    }
   ],
   "source": [
    "# Check to see what the area is like\n",
    "print(df['square_footage'].hist(bins=20))\n",
    "df['square_footage'].sort_values()"
   ]
  },
  {
   "cell_type": "code",
   "execution_count": 23,
   "id": "horizontal-replacement",
   "metadata": {},
   "outputs": [
    {
     "name": "stdout",
     "output_type": "stream",
     "text": [
      "AxesSubplot(0.125,0.125;0.775x0.755)\n"
     ]
    },
    {
     "data": {
      "text/plain": [
       "276    0\n",
       "281    0\n",
       "554    0\n",
       "386    0\n",
       "563    0\n",
       "      ..\n",
       "668    4\n",
       "122    4\n",
       "130    4\n",
       "165    4\n",
       "66     5\n",
       "Name: beds, Length: 460, dtype: int64"
      ]
     },
     "execution_count": 23,
     "metadata": {},
     "output_type": "execute_result"
    },
    {
     "data": {
      "image/png": "[encoded data removed]",
      "text/plain": [
       "<Figure size 432x288 with 1 Axes>"
      ]
     },
     "metadata": {
      "needs_background": "light"
     },
     "output_type": "display_data"
    }
   ],
   "source": [
    "# Check to see what the number of bedrooms is like\n",
    "print(df['beds'].hist())\n",
    "df['beds'].sort_values()"
   ]
  },
  {
   "cell_type": "code",
   "execution_count": 24,
   "id": "cutting-philippines",
   "metadata": {},
   "outputs": [
    {
     "name": "stdout",
     "output_type": "stream",
     "text": [
      "AxesSubplot(0.125,0.125;0.775x0.755)\n"
     ]
    },
    {
     "data": {
      "text/plain": [
       "0      1\n",
       "470    1\n",
       "468    1\n",
       "462    1\n",
       "461    1\n",
       "      ..\n",
       "412    2\n",
       "47     3\n",
       "333    3\n",
       "165    3\n",
       "111    4\n",
       "Name: baths, Length: 460, dtype: int64"
      ]
     },
     "execution_count": 24,
     "metadata": {},
     "output_type": "execute_result"
    },
    {
     "data": {
      "image/png": "[encoded data removed]",
      "text/plain": [
       "<Figure size 432x288 with 1 Axes>"
      ]
     },
     "metadata": {
      "needs_background": "light"
     },
     "output_type": "display_data"
    }
   ],
   "source": [
    "# Check to see what the number of bathrooms is like\n",
    "print(df['baths'].hist())\n",
    "df['baths'].sort_values()"
   ]
  },
  {
   "cell_type": "code",
   "execution_count": 25,
   "id": "manufactured-preview",
   "metadata": {},
   "outputs": [
    {
     "data": {
      "text/html": [
       "<div>\n",
       "<style scoped>\n",
       "    .dataframe tbody tr th:only-of-type {\n",
       "        vertical-align: middle;\n",
       "    }\n",
       "\n",
       "    .dataframe tbody tr th {\n",
       "        vertical-align: top;\n",
       "    }\n",
       "\n",
       "    .dataframe thead th {\n",
       "        text-align: right;\n",
       "    }\n",
       "</style>\n",
       "<table border=\"1\" class=\"dataframe\">\n",
       "  <thead>\n",
       "    <tr style=\"text-align: right;\">\n",
       "      <th></th>\n",
       "      <th>Price</th>\n",
       "      <th>beds</th>\n",
       "      <th>baths</th>\n",
       "      <th>square_footage</th>\n",
       "    </tr>\n",
       "  </thead>\n",
       "  <tbody>\n",
       "    <tr>\n",
       "      <th>0</th>\n",
       "      <td>1975.0</td>\n",
       "      <td>1</td>\n",
       "      <td>1</td>\n",
       "      <td>770.0</td>\n",
       "    </tr>\n",
       "    <tr>\n",
       "      <th>1</th>\n",
       "      <td>1680.0</td>\n",
       "      <td>2</td>\n",
       "      <td>1</td>\n",
       "      <td>841.0</td>\n",
       "    </tr>\n",
       "    <tr>\n",
       "      <th>4</th>\n",
       "      <td>2100.0</td>\n",
       "      <td>2</td>\n",
       "      <td>1</td>\n",
       "      <td>1000.0</td>\n",
       "    </tr>\n",
       "    <tr>\n",
       "      <th>8</th>\n",
       "      <td>1650.0</td>\n",
       "      <td>1</td>\n",
       "      <td>1</td>\n",
       "      <td>575.0</td>\n",
       "    </tr>\n",
       "    <tr>\n",
       "      <th>9</th>\n",
       "      <td>1650.0</td>\n",
       "      <td>1</td>\n",
       "      <td>1</td>\n",
       "      <td>575.0</td>\n",
       "    </tr>\n",
       "    <tr>\n",
       "      <th>...</th>\n",
       "      <td>...</td>\n",
       "      <td>...</td>\n",
       "      <td>...</td>\n",
       "      <td>...</td>\n",
       "    </tr>\n",
       "    <tr>\n",
       "      <th>704</th>\n",
       "      <td>1700.0</td>\n",
       "      <td>2</td>\n",
       "      <td>1</td>\n",
       "      <td>1200.0</td>\n",
       "    </tr>\n",
       "    <tr>\n",
       "      <th>706</th>\n",
       "      <td>1375.0</td>\n",
       "      <td>1</td>\n",
       "      <td>1</td>\n",
       "      <td>750.0</td>\n",
       "    </tr>\n",
       "    <tr>\n",
       "      <th>708</th>\n",
       "      <td>1695.0</td>\n",
       "      <td>2</td>\n",
       "      <td>1</td>\n",
       "      <td>757.0</td>\n",
       "    </tr>\n",
       "    <tr>\n",
       "      <th>709</th>\n",
       "      <td>1350.0</td>\n",
       "      <td>1</td>\n",
       "      <td>1</td>\n",
       "      <td>637.0</td>\n",
       "    </tr>\n",
       "    <tr>\n",
       "      <th>710</th>\n",
       "      <td>1375.0</td>\n",
       "      <td>1</td>\n",
       "      <td>1</td>\n",
       "      <td>750.0</td>\n",
       "    </tr>\n",
       "  </tbody>\n",
       "</table>\n",
       "<p>460 rows × 4 columns</p>\n",
       "</div>"
      ],
      "text/plain": [
       "      Price  beds  baths  square_footage\n",
       "0    1975.0     1      1           770.0\n",
       "1    1680.0     2      1           841.0\n",
       "4    2100.0     2      1          1000.0\n",
       "8    1650.0     1      1           575.0\n",
       "9    1650.0     1      1           575.0\n",
       "..      ...   ...    ...             ...\n",
       "704  1700.0     2      1          1200.0\n",
       "706  1375.0     1      1           750.0\n",
       "708  1695.0     2      1           757.0\n",
       "709  1350.0     1      1           637.0\n",
       "710  1375.0     1      1           750.0\n",
       "\n",
       "[460 rows x 4 columns]"
      ]
     },
     "execution_count": 25,
     "metadata": {},
     "output_type": "execute_result"
    }
   ],
   "source": [
    "mldf = df[['Price','beds', 'baths', 'square_footage']]\n",
    "mldf"
   ]
  },
  {
   "cell_type": "code",
   "execution_count": 32,
   "id": "dated-refrigerator",
   "metadata": {},
   "outputs": [
    {
     "name": "stdout",
     "output_type": "stream",
     "text": [
      "Coefficients: \n",
      " [178.52241549 358.16021995   0.59933935]\n",
      "Mean squared error: 135776.02\n",
      "Coefficient of determination: 0.48\n"
     ]
    }
   ],
   "source": [
    "from sklearn import linear_model\n",
    "from sklearn.metrics import mean_squared_error, r2_score\n",
    "import sklearn.model_selection as model_selection\n",
    "\n",
    "from sklearn.model_selection import train_test_split\n",
    "\n",
    "# Split dataset into training set and test set, 70/30\n",
    "X_train, X_test, y_train, y_test = train_test_split(mldf[['beds','baths','square_footage']], mldf['Price'], test_size=0.8,random_state=109) \n",
    "\n",
    "# Create linear regression object\n",
    "regr = linear_model.LinearRegression()\n",
    "\n",
    "# Train the model using the training sets\n",
    "regr.fit(X_train, y_train)\n",
    "\n",
    "# Make predictions using the testing set\n",
    "y_pred = regr.predict(X_test)\n",
    "\n",
    "# The coefficients\n",
    "print('Coefficients: \\n', regr.coef_)\n",
    "# The mean squared error\n",
    "print('Mean squared error: %.2f'\n",
    "      % mean_squared_error(y_test, y_pred))\n",
    "# The coefficient of determination: 1 is perfect prediction\n",
    "print('Coefficient of determination: %.2f'\n",
    "      % r2_score(y_test, y_pred))"
   ]
  },
  {
   "cell_type": "code",
   "execution_count": 38,
   "id": "prerequisite-senator",
   "metadata": {},
   "outputs": [],
   "source": [
    "import pickle\n",
    "# save the model to disk\n",
    "filename = 'mvp_model_craigslist.sav'\n",
    "pickle.dump(regr, open(filename, 'wb'))"
   ]
  },
  {
   "cell_type": "code",
   "execution_count": 40,
   "id": "precise-kentucky",
   "metadata": {},
   "outputs": [
    {
     "name": "stdout",
     "output_type": "stream",
     "text": [
      "3354.1314280772926\n"
     ]
    }
   ],
   "source": [
    "# some time later...\n",
    " \n",
    "# load the model from disk\n",
    "loaded_model = pickle.load(open(filename, 'rb'))\n",
    "beds = 3\n",
    "baths = 1\n",
    "sq_ft = 3000\n",
    "result = loaded_model.predict(np.array([beds,baths,sq_ft]).reshape(1, -1))\n",
    "print(result[0])"
   ]
  },
  {
   "cell_type": "code",
   "execution_count": null,
   "id": "suspected-savings",
   "metadata": {},
   "outputs": [],
   "source": []
  }
 ],
 "metadata": {
  "kernelspec": {
   "display_name": "Python 3",
   "language": "python",
   "name": "python3"
  },
  "language_info": {
   "codemirror_mode": {
    "name": "ipython",
    "version": 3
   },
   "file_extension": ".py",
   "mimetype": "text/x-python",
   "name": "python",
   "nbconvert_exporter": "python",
   "pygments_lexer": "ipython3",
   "version": "3.8.5"
  }
 },
 "nbformat": 4,
 "nbformat_minor": 5
}
