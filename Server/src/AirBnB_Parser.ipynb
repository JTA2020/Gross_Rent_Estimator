{
 "cells": [
  {
   "cell_type": "code",
   "execution_count": null,
   "id": "stuck-intellectual",
   "metadata": {},
   "outputs": [],
   "source": [
    "\"\"\"\n",
    "https://www.airbnb.ca/host/homes \n",
    "\n",
    "Information current as of March 15, 2021\n",
    "\n",
    "* Host your entire place\n",
    "* Located in Victoria, BC\n",
    "\n",
    "0-15 Guests\n",
    "[6416, 1711, 1924, 2207, 2684, 3067, 3898, 4782, 5132, 5643, 6248, 6942, 7133, 7445, 9405, 9458]\n",
    "\"\"\"\n"
   ]
  },
  {
   "cell_type": "code",
   "execution_count": 10,
   "id": "brutal-queen",
   "metadata": {},
   "outputs": [],
   "source": [
    "def airbnb_price(guests):\n",
    "    victoria_entire_place_prices = [6416, 1711, 1924, 2207, 2684, 3067, 3898, 4782, 5132, 5643, 6248, 6942, 7133, 7445, 9405, 9458]\n",
    "    if guests<16:\n",
    "        price_potential = victoria_entire_place_prices[guests]\n",
    "    else:\n",
    "        price_potential = \"Function unavailble for more than 15 guests\"\n",
    "    return price_potential    "
   ]
  },
  {
   "cell_type": "code",
   "execution_count": 11,
   "id": "studied-shooting",
   "metadata": {},
   "outputs": [
    {
     "data": {
      "text/plain": [
       "3898"
      ]
     },
     "execution_count": 11,
     "metadata": {},
     "output_type": "execute_result"
    }
   ],
   "source": [
    "airbnb_price(6)"
   ]
  }
 ],
 "metadata": {
  "kernelspec": {
   "display_name": "Python 3",
   "language": "python",
   "name": "python3"
  },
  "language_info": {
   "codemirror_mode": {
    "name": "ipython",
    "version": 3
   },
   "file_extension": ".py",
   "mimetype": "text/x-python",
   "name": "python",
   "nbconvert_exporter": "python",
   "pygments_lexer": "ipython3",
   "version": "3.8.5"
  }
 },
 "nbformat": 4,
 "nbformat_minor": 5
}
