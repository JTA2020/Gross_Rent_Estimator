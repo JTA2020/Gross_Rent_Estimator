{
 "cells": [
  {
   "cell_type": "code",
   "execution_count": 2,
   "id": "ideal-haiti",
   "metadata": {},
   "outputs": [
    {
     "name": "stdout",
     "output_type": "stream",
     "text": [
      "$1,500\n",
      "https://victoria.craigslist.org/apa/d/saanich-central-renovated-one-bedroom/7283420458.html\n",
      "Renovated one-Bedroom apartment\n",
      "\n",
      "$1,400\n",
      "https://victoria.craigslist.org/apa/d/victoria-royal-oak-bedroom-ground-floor/7283904297.html\n",
      "Royal Oak 1 Bedroom - Ground Floor Suite\n",
      "\n",
      "$1,500\n",
      "https://victoria.craigslist.org/apa/d/victoria-royal-oak-bedroom/7280611014.html\n",
      "Royal Oak - 1 Bedroom\n",
      "\n",
      "$1,500\n",
      "https://victoria.craigslist.org/apa/d/victoria-bedroom-broadmead-suite/7282112420.html\n",
      "1 Bedroom Broadmead Suite\n",
      "\n",
      "$1,300\n",
      "https://victoria.craigslist.org/apa/d/victoria-clean-broadmead-suite-for-rent/7284103593.html\n",
      "Clean Broadmead Suite for Rent - available April 1, 2021\n",
      "\n",
      "$1,650\n",
      "https://victoria.craigslist.org/apa/d/victoria-valley-view-furnished-suite/7281831375.html\n",
      "Valley View furnished suite utilities included\n",
      "\n",
      "$1,550\n",
      "https://victoria.craigslist.org/apa/d/victoria-bedroom-lower-suite-on/7281746729.html\n",
      "1 Bedroom lower suite on Sunnybank Crt.\n",
      "\n",
      "The average monthly rental for this listing is in the ballpark of:  1450\n"
     ]
    }
   ],
   "source": [
    "#This will be output from the listing parser\n",
    "\n",
    "beds = '1'\n",
    "baths = '1'\n",
    "postal_code = 'v8z5z4'\n",
    "radius='5'\n",
    "\n",
    "\n",
    "import requests\n",
    "# https://requests.readthedocs.io/en/master/\n",
    "\n",
    "from bs4 import BeautifulSoup\n",
    "# https://www.crummy.com/software/BeautifulSoup/bs4/doc/\n",
    "\n",
    "# Get list of offers\n",
    "URL = f'https://victoria.craigslist.org/search/apa?search_distance={radius}&postal={postal_code}&min_price=998&max_price=60000&min_bedrooms={beds}&max_bedrooms={beds}&min_bathrooms={beds}&max_bathrooms={beds}&availabilityMode=0&sale_date=all+dates'\n",
    "page = requests.get(URL)\n",
    "soup = BeautifulSoup(page.content, 'html.parser')\n",
    "results = soup.find(class_='rows')\n",
    "elems = results.find_all('li', class_='result-row')\n",
    "\n",
    "import string\n",
    "\n",
    "def remove_punct(text):\n",
    "    text = \"\".join([char for char in text if char not in string.punctuation])\n",
    "    return text \n",
    "\n",
    "#Bank of the prices\n",
    "prices = []\n",
    "\n",
    "# Parse each offer tile\n",
    "for elem in elems:\n",
    "    try: \n",
    "        price_elem = elem.find('span', class_='result-price')\n",
    "        prices.append(int(remove_punct(price_elem.text.strip())))\n",
    "        url_elem = elem.find('a', class_=\"result-image gallery\")['href']\n",
    "        title_elem = elem.find('a', class_='result-title hdrlnk')\n",
    "        print(price_elem.text.strip())\n",
    "        print(url_elem)    \n",
    "        print(title_elem.text.strip())\n",
    "        print()\n",
    "        \n",
    "    except:\n",
    "        pass\n",
    "\n",
    "print(\"The average monthly rental for this listing is in the ballpark of: \", int(sum(prices) / len(prices)))"
   ]
  },
  {
   "cell_type": "code",
   "execution_count": null,
   "id": "spare-filing",
   "metadata": {},
   "outputs": [],
   "source": []
  }
 ],
 "metadata": {
  "kernelspec": {
   "display_name": "Python 3",
   "language": "python",
   "name": "python3"
  },
  "language_info": {
   "codemirror_mode": {
    "name": "ipython",
    "version": 3
   },
   "file_extension": ".py",
   "mimetype": "text/x-python",
   "name": "python",
   "nbconvert_exporter": "python",
   "pygments_lexer": "ipython3",
   "version": "3.8.5"
  }
 },
 "nbformat": 4,
 "nbformat_minor": 5
}
